{
 "cells": [
  {
   "cell_type": "code",
   "execution_count": null,
   "id": "2c7eda07",
   "metadata": {},
   "outputs": [],
   "source": [
    "import pandas as pd\n",
    "import numpy as np\n",
    "import matplotlib.pyplot as plt\n",
    "import seaborn\n",
    "import pandas_profiling\n",
    "from pandas_profiling import ProfileReport"
   ]
  },
  {
   "cell_type": "code",
   "execution_count": null,
   "id": "52c96449",
   "metadata": {},
   "outputs": [],
   "source": [
    "raw_df = pd.read_csv(\"data/loan.csv\")"
   ]
  },
  {
   "cell_type": "markdown",
   "id": "be36106f",
   "metadata": {},
   "source": [
    "1. Remove current status loans\n",
    "2. Drop unnecessary columns not related to the loans\n",
    "3. Fix Rows and columns. ensure standardized naming.\n",
    "4. Identify a single unique identifier\n",
    "5. Identify missing values. \n",
    "5a. Ignore columns with majoirty missing value\n",
    "5b. use missing value replacement techniques\n",
    "6. Fix invalid values\n",
    "7. Outlier Treatment\n",
    "8. Standardize values\n"
   ]
  },
  {
   "cell_type": "code",
   "execution_count": null,
   "id": "6b38aa0d",
   "metadata": {},
   "outputs": [],
   "source": []
  }
 ],
 "metadata": {
  "kernelspec": {
   "display_name": "Python 3 (ipykernel)",
   "language": "python",
   "name": "python3"
  },
  "language_info": {
   "codemirror_mode": {
    "name": "ipython",
    "version": 3
   },
   "file_extension": ".py",
   "mimetype": "text/x-python",
   "name": "python",
   "nbconvert_exporter": "python",
   "pygments_lexer": "ipython3",
   "version": "3.9.7"
  }
 },
 "nbformat": 4,
 "nbformat_minor": 5
}
